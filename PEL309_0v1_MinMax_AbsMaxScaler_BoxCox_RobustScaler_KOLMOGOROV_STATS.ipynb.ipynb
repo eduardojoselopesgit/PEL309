{
 "cells": [
  {
   "cell_type": "code",
   "execution_count": 1,
   "id": "fdb240c8-3309-457b-a127-b5d2e4a7347b",
   "metadata": {},
   "outputs": [
    {
     "name": "stdout",
     "output_type": "stream",
     "text": [
      "Estatística do teste: 0.6309522766666666\n",
      "P-valor: 4.251800728599204e-12\n"
     ]
    }
   ],
   "source": [
    "from scipy.stats import kstest\n",
    "\n",
    "# Conjunto de dados\n",
    "MinMax_MAE = [\n",
    "    0.84365487, 0.00642096, 0.00549750, 0.00884642, 0.55065948, 0.00554991,\n",
    "    0.00984573, 0.15464671, 0.23449613, 0.22820039, 0.00557351, 0.00912782,\n",
    "    0.00759446, 0.02278697, 0.00572473, 0.00959903, 0.04385952, 0.00679980,\n",
    "    0.00592277, 0.16667593, 0.02053367, 0.00527777, 0.10644511, 0.00917930,\n",
    "    0.00801335, 0.37795994, 0.00580818, 0.01587125, 0.23571439, 0.30609858\n",
    "]\n",
    "\n",
    "# Executar o teste de Kolmogorov-Smirnov para uma distribuição uniforme\n",
    "ks_statistic, p_value = kstest(MinMax_MAE, 'uniform')\n",
    "\n",
    "# Exibir a estatística do teste e o p-valor\n",
    "print(f'Estatística do teste: {ks_statistic}')\n",
    "print(f'P-valor: {p_value}')\n"
   ]
  },
  {
   "cell_type": "code",
   "execution_count": 2,
   "id": "25c65c7c-ce12-4584-af11-7f577a3f7899",
   "metadata": {},
   "outputs": [
    {
     "name": "stdout",
     "output_type": "stream",
     "text": [
      "Estatística do teste: 0.6150931766666666\n",
      "P-valor: 1.889630620739857e-11\n"
     ]
    }
   ],
   "source": [
    "MinMax_RMSE=([\n",
    "1.21023631, 0.00898360, 0.00784958, 0.01167450, 0.72778165, 0.00788519,\n",
    "0.01210854, 0.21707396, 0.29912817, 0.26360753, 0.00784157, 0.01186286,\n",
    "0.01009387, 0.03155293, 0.00815137, 0.01280351, 0.05157349, 0.00893293,\n",
    "0.00839489, 0.21110141, 0.02679117, 0.00758969, 0.16012919, 0.01165511,\n",
    "0.01105910, 0.54914713, 0.00818899, 0.01875834, 0.32562914, 0.42356271 \n",
    "])\n",
    "\n",
    "# Executar o teste de Kolmogorov-Smirnov para uma distribuição uniforme\n",
    "ks_statistic, p_value = kstest(MinMax_RMSE, 'uniform')\n",
    "\n",
    "# Exibir a estatística do teste e o p-valor\n",
    "print(f'Estatística do teste: {ks_statistic}')\n",
    "print(f'P-valor: {p_value}')\n"
   ]
  },
  {
   "cell_type": "code",
   "execution_count": 3,
   "id": "24a12eff-3067-4a1d-a360-561e9bbc79f3",
   "metadata": {},
   "outputs": [
    {
     "name": "stdout",
     "output_type": "stream",
     "text": [
      "Estatística do teste: 0.5904594133333334\n",
      "P-valor: 1.7043935570656776e-10\n"
     ]
    }
   ],
   "source": [
    "AbsMaxScaler_MAE=([\n",
    "0.75703841, 0.00589186, 0.00792307, 0.00745368, 0.62592739, 0.00532416,\n",
    "0.00660523, 0.18519641, 0.20741972, 0.11133524, 0.00553703, 0.39335918,\n",
    "0.00546144, 0.00554558, 0.00569497, 0.05896554, 0.00497928, 0.00537468,\n",
    "0.00613061, 0.15493175, 0.23920602, 0.00529019, 0.02118786, 0.00556365,\n",
    "0.00660090, 0.42410883, 0.00585041, 0.41931394, 0.24287392, 0.15663067\n",
    "])\n",
    "# Executar o teste de Kolmogorov-Smirnov para uma distribuição uniforme\n",
    "ks_statistic, p_value = kstest(AbsMaxScaler_MAE, 'uniform')\n",
    "\n",
    "# Exibir a estatística do teste e o p-valor\n",
    "print(f'Estatística do teste: {ks_statistic}')\n",
    "print(f'P-valor: {p_value}')\n"
   ]
  },
  {
   "cell_type": "code",
   "execution_count": 4,
   "id": "53ad3af2-ed0d-4f1d-a76c-a52380ab42c4",
   "metadata": {},
   "outputs": [
    {
     "name": "stdout",
     "output_type": "stream",
     "text": [
      "Estatística do teste: 0.5406250666666667\n",
      "P-valor: 9.76693052544352e-09\n"
     ]
    }
   ],
   "source": [
    "AbsMaxScaler_RMSE=([\n",
    "1.03690803, 0.00837954, 0.00966002, 0.00993339, 0.77061403,\n",
    "0.00737440, 0.00909426, 0.24792778, 0.27926278, 0.16914429,\n",
    "0.00771557, 0.51156777, 0.00772880, 0.00788398, 0.00799241,\n",
    "0.08168124, 0.00719304, 0.00765924, 0.00858106, 0.21138528,\n",
    "0.33818340, 0.00753740, 0.02604160, 0.00786107, 0.00883037,\n",
    "0.60248762, 0.00822686, 0.57138240, 0.33221766, 0.18732481  \n",
    "])\n",
    "\n",
    "# Executar o teste de Kolmogorov-Smirnov para uma distribuição uniforme\n",
    "ks_statistic, p_value = kstest(AbsMaxScaler_RMSE, 'uniform')\n",
    "\n",
    "# Exibir a estatística do teste e o p-valor\n",
    "print(f'Estatística do teste: {ks_statistic}')\n",
    "print(f'P-valor: {p_value}')"
   ]
  },
  {
   "cell_type": "code",
   "execution_count": 5,
   "id": "c43e15f5-153b-412a-949f-f47e94c79042",
   "metadata": {},
   "outputs": [
    {
     "name": "stdout",
     "output_type": "stream",
     "text": [
      "Estatística do teste: 0.5763254033333334\n",
      "P-valor: 5.66345140189655e-10\n"
     ]
    }
   ],
   "source": [
    "BoxCox_MAE=([\n",
    "0.78972781, 0.00386626, 0.00572718, 0.00571583, 0.68943834,\n",
    "0.00544001, 0.00556139, 0.19901682, 0.25700793, 0.18567713,\n",
    "0.00391236, 0.38911280, 0.00457772, 0.00326767, 0.00349306,\n",
    "0.04888562, 0.01080074, 0.00421932, 0.00326001, 0.12837914,\n",
    "0.23443878, 0.00489287, 0.01589382, 0.00565716, 0.00693018,\n",
    "0.39922109, 0.00421609, 0.54469931, 0.22405922, 0.15456431\n",
    "])\n",
    "# Executar o teste de Kolmogorov-Smirnov para uma distribuição uniforme\n",
    "ks_statistic, p_value = kstest(BoxCox_MAE, 'uniform')\n",
    "\n",
    "# Exibir a estatística do teste e o p-valor\n",
    "print(f'Estatística do teste: {ks_statistic}')\n",
    "print(f'P-valor: {p_value}')"
   ]
  },
  {
   "cell_type": "code",
   "execution_count": 6,
   "id": "4e89594c-a8e8-4390-aa01-54bb3126d990",
   "metadata": {},
   "outputs": [
    {
     "name": "stdout",
     "output_type": "stream",
     "text": [
      "Estatística do teste: 0.5465059966666667\n",
      "P-valor: 6.218602814764283e-09\n"
     ]
    }
   ],
   "source": [
    "BoxCox_RMSE=([\n",
    "0.96161795, 0.00512047, 0.00678258, 0.00807150, 0.84493703,\n",
    "0.00666835, 0.00733972, 0.28059074, 0.32360402, 0.25197390,\n",
    "0.00550750, 0.50809932, 0.00607817, 0.00470550, 0.00495856,\n",
    "0.07053225, 0.01218418, 0.00565008, 0.00464289, 0.18008736,\n",
    "0.33022723, 0.00605872, 0.02016067, 0.00689008, 0.00981369,\n",
    "0.56558675, 0.00552516, 0.74248457, 0.30859607, 0.18956590\n",
    "])\n",
    "# Executar o teste de Kolmogorov-Smirnov para uma distribuição uniforme\n",
    "ks_statistic, p_value = kstest(BoxCox_RMSE, 'uniform')\n",
    "\n",
    "# Exibir a estatística do teste e o p-valor\n",
    "print(f'Estatística do teste: {ks_statistic}')\n",
    "print(f'P-valor: {p_value}')"
   ]
  },
  {
   "cell_type": "code",
   "execution_count": 7,
   "id": "ba084365-d176-4bcc-9e7d-82f438872cc4",
   "metadata": {},
   "outputs": [
    {
     "name": "stdout",
     "output_type": "stream",
     "text": [
      "Estatística do teste: 0.5974450066666668\n",
      "P-valor: 9.26386592461185e-11\n"
     ]
    }
   ],
   "source": [
    "RobustScaler_MAE=([\n",
    "0.73411411, 0.01941808, 0.01805075, 0.02002380, 0.62062317,\n",
    "0.01832691, 0.01793848, 0.16187701, 0.26922166, 0.20703627,\n",
    "0.01782154, 0.20227571, 0.01735926, 0.01836318, 0.01835401,\n",
    "0.08272226, 0.01648342, 0.01721630, 0.01917167, 0.19931932,\n",
    "0.24496162, 0.01707506, 0.01895296, 0.01666380, 0.01799508,\n",
    "0.42218691, 0.01886794, 0.48882762, 0.24464257, 0.17146586 \n",
    "])\n",
    "# Executar o teste de Kolmogorov-Smirnov para uma distribuição uniforme\n",
    "ks_statistic, p_value = kstest(RobustScaler_MAE, 'uniform')\n",
    "\n",
    "# Exibir a estatística do teste e o p-valor\n",
    "print(f'Estatística do teste: {ks_statistic}')\n",
    "print(f'P-valor: {p_value}')"
   ]
  },
  {
   "cell_type": "code",
   "execution_count": 8,
   "id": "f1890fec-16e5-40bd-a534-f7d22d66c81a",
   "metadata": {},
   "outputs": [
    {
     "name": "stdout",
     "output_type": "stream",
     "text": [
      "Estatística do teste: 0.5384526066666666\n",
      "P-valor: 1.1519813123175706e-08\n"
     ]
    }
   ],
   "source": [
    "RobustScaler_RMSE=([\n",
    "0.88666940, 0.02764543, 0.02573996, 0.02821406, 0.77493346,\n",
    "0.02560955, 0.02563829, 0.22670424, 0.34281829, 0.23661345,\n",
    "0.02527967, 0.28892177, 0.02509093, 0.02608997, 0.02610675,\n",
    "0.10220373, 0.02385237, 0.02476585, 0.02730006, 0.24641268,\n",
    "0.33315349, 0.02453486, 0.02696796, 0.02371932, 0.02567223,\n",
    "0.59841865, 0.02689562, 0.64157069, 0.33267301, 0.22279152\n",
    "])\n",
    "# Executar o teste de Kolmogorov-Smirnov para uma distribuição uniforme\n",
    "ks_statistic, p_value = kstest(RobustScaler_RMSE, 'uniform')\n",
    "\n",
    "# Exibir a estatística do teste e o p-valor\n",
    "print(f'Estatística do teste: {ks_statistic}')\n",
    "print(f'P-valor: {p_value}')"
   ]
  },
  {
   "cell_type": "code",
   "execution_count": 9,
   "id": "c8336576-2480-49f9-8b12-f9a6555df933",
   "metadata": {},
   "outputs": [
    {
     "name": "stdout",
     "output_type": "stream",
     "text": [
      "Estatística do teste: 0.5570717966666667\n",
      "P-valor: 2.716272449298935e-09\n"
     ]
    }
   ],
   "source": [
    "QuantileTransformer_MAE=([\n",
    "0.48189586, 0.00199886, 0.00166657, 0.00760918, 0.79198134,\n",
    "0.00172793, 0.00796540, 0.16615629, 0.27776885, 0.12538262,\n",
    "0.00384027, 0.30959487, 0.00541099, 0.00105953, 0.00172233,\n",
    "0.06099727, 0.00536875, 0.00150677, 0.00574481, 0.11915680,\n",
    "0.26465228, 0.00202524, 0.03654779, 0.03840229, 0.00681597,\n",
    "0.44016275, 0.00251191, 0.42184058, 0.29096872, 0.21573046\n",
    "])\n",
    "# Executar o teste de Kolmogorov-Smirnov para uma distribuição uniforme\n",
    "ks_statistic, p_value = kstest(QuantileTransformer_MAE, 'uniform')\n",
    "\n",
    "# Exibir a estatística do teste e o p-valor\n",
    "print(f'Estatística do teste: {ks_statistic}')\n",
    "print(f'P-valor: {p_value}')"
   ]
  },
  {
   "cell_type": "code",
   "execution_count": 10,
   "id": "281dd6da-d16a-431b-bea8-278575294eaa",
   "metadata": {},
   "outputs": [
    {
     "name": "stdout",
     "output_type": "stream",
     "text": [
      "Estatística do teste: 0.5183021566666667\n",
      "P-valor: 5.1018870385072805e-08\n"
     ]
    }
   ],
   "source": [
    "QuantileTransformer_RMSE=([\n",
    "0.71688163, 0.00302901, 0.00217023, 0.00936609, 0.94940090,\n",
    "0.00257500, 0.00930570, 0.23229334, 0.34760678, 0.18118292,\n",
    "0.00493682, 0.41898242, 0.00609806, 0.00187999, 0.00231652,\n",
    "0.08449855, 0.00642830, 0.00206687, 0.00644059, 0.16713893,\n",
    "0.36784360, 0.00260679, 0.04381344, 0.04836451, 0.00906198,\n",
    "0.57338893, 0.00364023, 0.57188678, 0.38314629, 0.25916404\n",
    "])\n",
    "# Executar o teste de Kolmogorov-Smirnov para uma distribuição uniforme\n",
    "ks_statistic, p_value = kstest(QuantileTransformer_RMSE, 'uniform')\n",
    "\n",
    "# Exibir a estatística do teste e o p-valor\n",
    "print(f'Estatística do teste: {ks_statistic}')\n",
    "print(f'P-valor: {p_value}')"
   ]
  }
 ],
 "metadata": {
  "kernelspec": {
   "display_name": "Python 3 (ipykernel)",
   "language": "python",
   "name": "python3"
  },
  "language_info": {
   "codemirror_mode": {
    "name": "ipython",
    "version": 3
   },
   "file_extension": ".py",
   "mimetype": "text/x-python",
   "name": "python",
   "nbconvert_exporter": "python",
   "pygments_lexer": "ipython3",
   "version": "3.11.9"
  }
 },
 "nbformat": 4,
 "nbformat_minor": 5
}
